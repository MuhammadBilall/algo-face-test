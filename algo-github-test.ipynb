{
 "cells": [
  {
   "cell_type": "code",
   "execution_count": 13,
   "metadata": {},
   "outputs": [],
   "source": [
    "import json\n",
    "import random"
   ]
  },
  {
   "cell_type": "code",
   "execution_count": 56,
   "metadata": {},
   "outputs": [],
   "source": [
    "def main_function(arg):\n",
    "\n",
    "    #inp = dict(arg)\n",
    "    #print(inp)\n",
    "    \n",
    "    with open('C:\\\\Users\\\\Bilal\\\\Downloads\\\\python-test.1.2\\\\python-test\\\\data.txt', 'r') as file:\n",
    "        data = json.loads(file.read())\n",
    "\n",
    "    #print(data)\n",
    "    \n",
    "    parse_commands = []\n",
    "    for row in arg:\n",
    "        if 'function' in row and row['function'] == 'parse':\n",
    "            parse_commands.append(row.copy())\n",
    "    #print(f\"parse_commands: {parse_commands}\")\n",
    "    \n",
    "    copy_commands = []\n",
    "    for row in arg:\n",
    "        if 'function' in row and row['function'] == 'copy':\n",
    "            copy_commands.append(row.copy())\n",
    "    #print(f\"copy_commands: {copy_commands}\")\n",
    "    \n",
    "    \n",
    "    functional_commands = []\n",
    "    counter = 0\n",
    "    for row in parse_commands:\n",
    "        counter += 1\n",
    "        new_row = row.copy()\n",
    "        new_row['_list'] = 'parse'\n",
    "        new_row['_counter'] = counter\n",
    "        functional_commands.append(new_row)\n",
    "    #counter = 0\n",
    "    for row in copy_commands:\n",
    "        counter += 1\n",
    "        new_row = row.copy()\n",
    "        new_row['_list'] = 'copy'\n",
    "        new_row['_counter'] = counter\n",
    "        functional_commands.append(new_row)\n",
    "    #print(f\"functional_commands: {functional_commands}\")\n",
    "    \n",
    "    random_commands = random.sample(data, 2)\n",
    "    #print(f\"random_commands: {random_commands}\")\n",
    "    \n",
    "    return parse_commands, copy_commands, functional_commands, random_commands"
   ]
  },
  {
   "cell_type": "code",
   "execution_count": 70,
   "metadata": {},
   "outputs": [
    {
     "name": "stdout",
     "output_type": "stream",
     "text": [
      "[{'function': 'parse', 'help': 'file help', 'value': 'file'}, {'function': 'copy', 'help': 'copy help', 'value': 'file'}]\n",
      "parse_commands: [{'function': 'parse', 'help': 'file help', 'value': 'file'}]\n",
      "copy_commands: [{'function': 'copy', 'help': 'copy help', 'value': 'file'}]\n",
      "functional_commands: [{'function': 'parse', 'help': 'file help', 'value': 'file', '_list': 'parse', '_counter': 1}, {'function': 'copy', 'help': 'copy help', 'value': 'file', '_list': 'copy', '_counter': 2}]\n",
      "random_commands: [{'value': 'bad value'}, {'function': 'run', 'help': 'execute help', 'value': 'execute'}]\n"
     ]
    }
   ],
   "source": [
    "input_command = [{'function': 'parse', 'help': 'file help', 'value': 'file'}]\n",
    "#input_command = dict(input_command)\n",
    "\n",
    "input_command2 = [{'function': 'parse', 'help': 'file help', 'value': 'file'}, {'function': 'copy', 'help': 'copy help', 'value': 'file'}]\n",
    "\n",
    "#input_command2 = \"'function': 'parse', 'help': 'file help', 'value': 'file'\"\n",
    "#input_command2 = dict(input_command2)\n",
    "\n",
    "#input_command3 = \"\"\n",
    "#input_command3 = dict(input_command3)\n",
    "\n",
    "parse_commands, copy_commands, functional_commands, random_commands = main_function(input_command2)\n",
    "#parse_commands, copy_commands, functional_commands, random_commands = main_function('parse')\n",
    "\n",
    "\n",
    "print(f\"parse_commands: {parse_commands}\")\n",
    "print(f\"copy_commands: {copy_commands}\")\n",
    "print(f\"functional_commands: {functional_commands}\")\n",
    "print(f\"random_commands: {random_commands}\")"
   ]
  }
 ],
 "metadata": {
  "kernelspec": {
   "display_name": "Python 3",
   "language": "python",
   "name": "python3"
  },
  "language_info": {
   "codemirror_mode": {
    "name": "ipython",
    "version": 3
   },
   "file_extension": ".py",
   "mimetype": "text/x-python",
   "name": "python",
   "nbconvert_exporter": "python",
   "pygments_lexer": "ipython3",
   "version": "3.7.7"
  }
 },
 "nbformat": 4,
 "nbformat_minor": 4
}
